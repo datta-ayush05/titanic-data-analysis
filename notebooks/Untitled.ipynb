{
 "cells": [
  {
   "cell_type": "code",
   "execution_count": null,
   "id": "7fdde3ef-555a-462f-a3da-d39362ec9ab9",
   "metadata": {},
   "outputs": [],
   "source": [
    "male_agegrp = df[df['Sex'] == 'male'].groupby('AgeGroup')['Survived'].mean().reindex(age_order)\n",
    "print(male_agegrp)\n",
    "female_agegrp = df[df['Sex'] == 'female'].groupby('AgeGroup')['Survived'].mean().reindex(age_order)\n",
    "print(female_agegrp)\n",
    "fig, ax = plt.subplots()\n",
    "ax.plot(male_agegrp, color = 'blue', label = 'male', marker = 'o')\n",
    "ax.plot(female_agegrp, color = 'red', label = 'female', marker = 'o')\n",
    "ax.legend()\n",
    "ax.set(title = 'Survival rate vs different age groups of males and females', xlabel = 'Age Groups', ylabel = 'Survival Rate')\n",
    "plt.show()"
   ]
  }
 ],
 "metadata": {
  "kernelspec": {
   "display_name": "Python 3 (ipykernel)",
   "language": "python",
   "name": "python3"
  },
  "language_info": {
   "codemirror_mode": {
    "name": "ipython",
    "version": 3
   },
   "file_extension": ".py",
   "mimetype": "text/x-python",
   "name": "python",
   "nbconvert_exporter": "python",
   "pygments_lexer": "ipython3",
   "version": "3.13.5"
  }
 },
 "nbformat": 4,
 "nbformat_minor": 5
}
