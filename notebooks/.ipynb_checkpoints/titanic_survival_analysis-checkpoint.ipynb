{
 "cells": [
  {
   "cell_type": "markdown",
   "id": "b6df66d2-3dbd-4798-b739-d225365c4177",
   "metadata": {},
   "source": [
    "# Titanic Survival Analysis\n",
    "An end-to-end data analysis and modeling project using the Titanic dataset"
   ]
  },
  {
   "cell_type": "markdown",
   "id": "bf02d3e8-7ff1-4bcb-9aa1-b2de2ad675d9",
   "metadata": {},
   "source": [
    "## Step 1 : Load and Preview the Dataset\n",
    "We'll begin by importing the dataset and taking a first look at it's structure and contents"
   ]
  },
  {
   "cell_type": "code",
   "execution_count": 1,
   "id": "00ba2b8b-685d-44d6-b411-f08334d8557d",
   "metadata": {},
   "outputs": [
    {
     "data": {
      "text/html": [
       "<div>\n",
       "<style scoped>\n",
       "    .dataframe tbody tr th:only-of-type {\n",
       "        vertical-align: middle;\n",
       "    }\n",
       "\n",
       "    .dataframe tbody tr th {\n",
       "        vertical-align: top;\n",
       "    }\n",
       "\n",
       "    .dataframe thead th {\n",
       "        text-align: right;\n",
       "    }\n",
       "</style>\n",
       "<table border=\"1\" class=\"dataframe\">\n",
       "  <thead>\n",
       "    <tr style=\"text-align: right;\">\n",
       "      <th></th>\n",
       "      <th>PassengerId</th>\n",
       "      <th>Survived</th>\n",
       "      <th>Pclass</th>\n",
       "      <th>Name</th>\n",
       "      <th>Sex</th>\n",
       "      <th>Age</th>\n",
       "      <th>SibSp</th>\n",
       "      <th>Parch</th>\n",
       "      <th>Ticket</th>\n",
       "      <th>Fare</th>\n",
       "      <th>Cabin</th>\n",
       "      <th>Embarked</th>\n",
       "    </tr>\n",
       "  </thead>\n",
       "  <tbody>\n",
       "    <tr>\n",
       "      <th>0</th>\n",
       "      <td>1</td>\n",
       "      <td>0</td>\n",
       "      <td>3</td>\n",
       "      <td>Braund, Mr. Owen Harris</td>\n",
       "      <td>male</td>\n",
       "      <td>22.0</td>\n",
       "      <td>1</td>\n",
       "      <td>0</td>\n",
       "      <td>A/5 21171</td>\n",
       "      <td>7.2500</td>\n",
       "      <td>NaN</td>\n",
       "      <td>S</td>\n",
       "    </tr>\n",
       "    <tr>\n",
       "      <th>1</th>\n",
       "      <td>2</td>\n",
       "      <td>1</td>\n",
       "      <td>1</td>\n",
       "      <td>Cumings, Mrs. John Bradley (Florence Briggs Th...</td>\n",
       "      <td>female</td>\n",
       "      <td>38.0</td>\n",
       "      <td>1</td>\n",
       "      <td>0</td>\n",
       "      <td>PC 17599</td>\n",
       "      <td>71.2833</td>\n",
       "      <td>C85</td>\n",
       "      <td>C</td>\n",
       "    </tr>\n",
       "    <tr>\n",
       "      <th>2</th>\n",
       "      <td>3</td>\n",
       "      <td>1</td>\n",
       "      <td>3</td>\n",
       "      <td>Heikkinen, Miss. Laina</td>\n",
       "      <td>female</td>\n",
       "      <td>26.0</td>\n",
       "      <td>0</td>\n",
       "      <td>0</td>\n",
       "      <td>STON/O2. 3101282</td>\n",
       "      <td>7.9250</td>\n",
       "      <td>NaN</td>\n",
       "      <td>S</td>\n",
       "    </tr>\n",
       "    <tr>\n",
       "      <th>3</th>\n",
       "      <td>4</td>\n",
       "      <td>1</td>\n",
       "      <td>1</td>\n",
       "      <td>Futrelle, Mrs. Jacques Heath (Lily May Peel)</td>\n",
       "      <td>female</td>\n",
       "      <td>35.0</td>\n",
       "      <td>1</td>\n",
       "      <td>0</td>\n",
       "      <td>113803</td>\n",
       "      <td>53.1000</td>\n",
       "      <td>C123</td>\n",
       "      <td>S</td>\n",
       "    </tr>\n",
       "    <tr>\n",
       "      <th>4</th>\n",
       "      <td>5</td>\n",
       "      <td>0</td>\n",
       "      <td>3</td>\n",
       "      <td>Allen, Mr. William Henry</td>\n",
       "      <td>male</td>\n",
       "      <td>35.0</td>\n",
       "      <td>0</td>\n",
       "      <td>0</td>\n",
       "      <td>373450</td>\n",
       "      <td>8.0500</td>\n",
       "      <td>NaN</td>\n",
       "      <td>S</td>\n",
       "    </tr>\n",
       "  </tbody>\n",
       "</table>\n",
       "</div>"
      ],
      "text/plain": [
       "   PassengerId  Survived  Pclass  \\\n",
       "0            1         0       3   \n",
       "1            2         1       1   \n",
       "2            3         1       3   \n",
       "3            4         1       1   \n",
       "4            5         0       3   \n",
       "\n",
       "                                                Name     Sex   Age  SibSp  \\\n",
       "0                            Braund, Mr. Owen Harris    male  22.0      1   \n",
       "1  Cumings, Mrs. John Bradley (Florence Briggs Th...  female  38.0      1   \n",
       "2                             Heikkinen, Miss. Laina  female  26.0      0   \n",
       "3       Futrelle, Mrs. Jacques Heath (Lily May Peel)  female  35.0      1   \n",
       "4                           Allen, Mr. William Henry    male  35.0      0   \n",
       "\n",
       "   Parch            Ticket     Fare Cabin Embarked  \n",
       "0      0         A/5 21171   7.2500   NaN        S  \n",
       "1      0          PC 17599  71.2833   C85        C  \n",
       "2      0  STON/O2. 3101282   7.9250   NaN        S  \n",
       "3      0            113803  53.1000  C123        S  \n",
       "4      0            373450   8.0500   NaN        S  "
      ]
     },
     "execution_count": 1,
     "metadata": {},
     "output_type": "execute_result"
    }
   ],
   "source": [
    "# Basic imports\n",
    "\n",
    "import pandas as pd\n",
    "import numpy as np\n",
    "import matplotlib.pyplot as plt\n",
    "import seaborn as sns\n",
    "%matplotlib inline\n",
    "\n",
    "# Load dataset\n",
    "\n",
    "df = pd.read_csv('../data/raw/train.csv')\n",
    "df.head()"
   ]
  },
  {
   "cell_type": "markdown",
   "id": "cb4796e2-b429-4f17-a1de-c95951a58f4b",
   "metadata": {},
   "source": [
    "The dataset contains information about Titanic passengers such as :\n",
    "- **Survived** : 0 = No, 1 = Yes\n",
    "- **Pclass** : Ticket class (1 = 1st, 2 = 2nd, 3 = 3rd)\n",
    "- **Name**, **Sex**, **Age**\n",
    "- **SibSp** : Siblings/Spouses aboard\n",
    "- **Parch** : Parents/Children aboard\n",
    "- **Ticket**, **Fare**, **Cabin**, **Embarked**\n",
    "Let's now explore the dimensions and data types"
   ]
  },
  {
   "cell_type": "code",
   "execution_count": 2,
   "id": "54a99a19-071e-48d3-bc19-f40932047d98",
   "metadata": {},
   "outputs": [
    {
     "name": "stdout",
     "output_type": "stream",
     "text": [
      "Shape : (891, 12)\n",
      "<class 'pandas.core.frame.DataFrame'>\n",
      "RangeIndex: 891 entries, 0 to 890\n",
      "Data columns (total 12 columns):\n",
      " #   Column       Non-Null Count  Dtype  \n",
      "---  ------       --------------  -----  \n",
      " 0   PassengerId  891 non-null    int64  \n",
      " 1   Survived     891 non-null    int64  \n",
      " 2   Pclass       891 non-null    int64  \n",
      " 3   Name         891 non-null    object \n",
      " 4   Sex          891 non-null    object \n",
      " 5   Age          714 non-null    float64\n",
      " 6   SibSp        891 non-null    int64  \n",
      " 7   Parch        891 non-null    int64  \n",
      " 8   Ticket       891 non-null    object \n",
      " 9   Fare         891 non-null    float64\n",
      " 10  Cabin        204 non-null    object \n",
      " 11  Embarked     889 non-null    object \n",
      "dtypes: float64(2), int64(5), object(5)\n",
      "memory usage: 83.7+ KB\n"
     ]
    }
   ],
   "source": [
    "# Dimensions and data types\n",
    "\n",
    "print(f\"Shape : {df.shape}\")\n",
    "df.info()"
   ]
  },
  {
   "cell_type": "markdown",
   "id": "bf61782b-a680-4a6f-93fe-b3f9ef70584b",
   "metadata": {},
   "source": [
    "### Initial Observations\n",
    "- There are **891 rows** and **12 columns**\n",
    "- Columns like 'Age' and 'Cabin' have missing (null) values\n",
    "- There are 2 columns with float type values (Age, Fare), 5 with int type values (Passenger ID, Survived, Pclass, SibSp, Parch) and 5 with object (here string) type values (Name, Sex, Ticket, Cabin, Embarked)"
   ]
  },
  {
   "cell_type": "markdown",
   "id": "22c63fda-14b2-443d-8b93-7b436c667d77",
   "metadata": {},
   "source": [
    "## Step 2 : Data Quality Checks\n",
    "Before analysis, we'll explore :\n",
    "- Missing values\n",
    "- Duplicate rows\n",
    "- Target variable balance"
   ]
  },
  {
   "cell_type": "code",
   "execution_count": 3,
   "id": "12a51c97-aac3-4608-951a-27a21dc99bda",
   "metadata": {},
   "outputs": [
    {
     "data": {
      "text/plain": [
       "Cabin          687\n",
       "Age            177\n",
       "Embarked         2\n",
       "PassengerId      0\n",
       "Name             0\n",
       "Pclass           0\n",
       "Survived         0\n",
       "Sex              0\n",
       "Parch            0\n",
       "SibSp            0\n",
       "Fare             0\n",
       "Ticket           0\n",
       "dtype: int64"
      ]
     },
     "execution_count": 3,
     "metadata": {},
     "output_type": "execute_result"
    }
   ],
   "source": [
    "# Missing values\n",
    "\n",
    "df.isnull().sum().sort_values(ascending = False)"
   ]
  },
  {
   "cell_type": "code",
   "execution_count": 4,
   "id": "758f473c-c3a5-4205-b416-e31109d680e8",
   "metadata": {},
   "outputs": [
    {
     "data": {
      "text/plain": [
       "Cabin          77.10\n",
       "Age            19.87\n",
       "Embarked        0.22\n",
       "PassengerId     0.00\n",
       "Name            0.00\n",
       "Pclass          0.00\n",
       "Survived        0.00\n",
       "Sex             0.00\n",
       "Parch           0.00\n",
       "SibSp           0.00\n",
       "Fare            0.00\n",
       "Ticket          0.00\n",
       "dtype: float64"
      ]
     },
     "execution_count": 4,
     "metadata": {},
     "output_type": "execute_result"
    }
   ],
   "source": [
    "# Percentage of missing values\n",
    "\n",
    "(df.isnull().mean()*100).round(2).sort_values(ascending = False) "
   ]
  },
  {
   "cell_type": "markdown",
   "id": "6c4e24f5-dbc6-4053-8fec-75aac9851700",
   "metadata": {},
   "source": [
    "### Missing Data Observations\n",
    "- 'Cabin' is missing for most passengers (~77%) - we may extract deck from it, but likely drop the column later\n",
    "- 'Age' has ~20% missing values, we'll impute this smartly\n",
    "- 'Embarked' has only a couple of missing values - easy fix"
   ]
  },
  {
   "cell_type": "code",
   "execution_count": 5,
   "id": "f0bad860-3096-4407-9877-472ec386b6d9",
   "metadata": {},
   "outputs": [
    {
     "data": {
      "text/plain": [
       "np.int64(0)"
      ]
     },
     "execution_count": 5,
     "metadata": {},
     "output_type": "execute_result"
    }
   ],
   "source": [
    "# Duplicate Rows Check\n",
    "\n",
    "df.duplicated().sum()"
   ]
  },
  {
   "cell_type": "code",
   "execution_count": 6,
   "id": "203c9998-6798-4b8b-a37d-3357e7bab482",
   "metadata": {},
   "outputs": [
    {
     "data": {
      "image/png": "[encoded data removed]",
      "text/plain": [
       "<Figure size 640x480 with 1 Axes>"
      ]
     },
     "metadata": {},
     "output_type": "display_data"
    }
   ],
   "source": [
    "# Target variable balance\n",
    "\n",
    "df['Survived'].value_counts(normalize = True).plot(kind = 'bar', color = ['red', 'green'])\n",
    "plt.title('Survival Distribution (0 = Died, 1 = Survived)')\n",
    "plt.ylabel('Proportion')\n",
    "plt.xticks([0,1],['Died (0)', 'Survived (1)'])\n",
    "plt.ylim(0,1)\n",
    "plt.show()"
   ]
  },
  {
   "cell_type": "markdown",
   "id": "8aa35448-ddcf-4921-a16d-80ead5730129",
   "metadata": {},
   "source": [
    "## Step 3 : Univariate Analysis\n",
    "Now we study each column one at a time to understand distributions, outliers, data types, etc.\n",
    "- Spread of each feature\n",
    "- Spot weird stuff (e.g., insane fares, missing ages)"
   ]
  },
  {
   "cell_type": "code",
   "execution_count": 7,
   "id": "8b779531-8be0-4bec-a963-39bdb0763cf2",
   "metadata": {},
   "outputs": [
    {
     "name": "stdout",
     "output_type": "stream",
     "text": [
      "Sex\n",
      "female    233\n",
      "male      109\n",
      "Name: Survived, dtype: int64\n",
      "Sex\n",
      "female    74.20\n",
      "male      18.89\n",
      "Name: Survived, dtype: float64\n"
     ]
    }
   ],
   "source": [
    "# Sex\n",
    "\n",
    "# Survival count with gender\n",
    "print(df.groupby('Sex')['Survived'].sum())\n",
    "\n",
    "# Survival rate with gender\n",
    "print((df.groupby('Sex')['Survived'].mean()*100).round(2))"
   ]
  },
  {
   "cell_type": "code",
   "execution_count": 8,
   "id": "4d35d703-3a90-469d-8f5c-82bb1662e88a",
   "metadata": {},
   "outputs": [
    {
     "name": "stdout",
     "output_type": "stream",
     "text": [
      "Pclass\n",
      "1    216\n",
      "2    184\n",
      "3    491\n",
      "dtype: int64\n",
      "Pclass  Survived\n",
      "1       1           62.96\n",
      "        0           37.04\n",
      "2       0           52.72\n",
      "        1           47.28\n",
      "3       0           75.76\n",
      "        1           24.24\n",
      "Name: proportion, dtype: float64\n",
      "Pclass\n",
      "1    39.77\n",
      "2    25.44\n",
      "3    34.80\n",
      "dtype: float64\n",
      "Pclass\n",
      "1    40.12\n",
      "2    25.67\n",
      "3    35.11\n",
      "dtype: float64\n"
     ]
    }
   ],
   "source": [
    "# Pclass\n",
    "\n",
    "# Count of passengers per class\n",
    "print(df.groupby('Pclass').size())\n",
    "\n",
    "# Survival rate per class\n",
    "print((df.groupby('Pclass')['Survived'].value_counts(normalize = True) * 100).round(2))\n",
    "\n",
    "# Distribution of survivors per class\n",
    "print((((df[df['Survived'] == 1].groupby('Pclass').size()) / int(df['Survived'].sum())) * 100).round(2))\n",
    "\n",
    "# Distribution of survivors per class using Bayes theorem\n",
    "print((((df.groupby('Pclass')['Survived'].mean() * (df.groupby('Pclass').size() / 892)) / (0.38)) * 100).round(2))"
   ]
  },
  {
   "cell_type": "code",
   "execution_count": 9,
   "id": "63221d27-10b9-4ae1-80ac-7e8c58222f60",
   "metadata": {},
   "outputs": [
    {
     "name": "stdout",
     "output_type": "stream",
     "text": [
      "Embarked\n",
      "C    168\n",
      "Q     77\n",
      "S    644\n",
      "dtype: int64\n",
      "Embarked\n",
      "C    55.36\n",
      "Q    38.96\n",
      "S    33.70\n",
      "Name: Survived, dtype: float64\n",
      "Embarked\n",
      "C    27.19\n",
      "Q     8.77\n",
      "S    63.45\n",
      "dtype: float64\n"
     ]
    }
   ],
   "source": [
    "# Embarked\n",
    "\n",
    "# Count of passengers per port\n",
    "print(df.groupby('Embarked').size())\n",
    "\n",
    "# Survival rate per port\n",
    "print((df.groupby('Embarked')['Survived'].mean() * 100).round(2))\n",
    "\n",
    "# Distribution of survivors per port\n",
    "print((((df[df['Survived'] == 1].groupby('Embarked').size()) / int(df['Survived'].sum())) * 100).round(2))"
   ]
  },
  {
   "cell_type": "code",
   "execution_count": 10,
   "id": "fd759344-1849-46bc-845c-0826e071f6d7",
   "metadata": {},
   "outputs": [
    {
     "name": "stdout",
     "output_type": "stream",
     "text": [
      "SibSp\n",
      "0    608\n",
      "1    209\n",
      "2     28\n",
      "3     16\n",
      "4     18\n",
      "5      5\n",
      "8      7\n",
      "dtype: int64\n",
      "Parch\n",
      "0    678\n",
      "1    118\n",
      "2     80\n",
      "3      5\n",
      "4      4\n",
      "5      5\n",
      "6      1\n",
      "dtype: int64\n"
     ]
    }
   ],
   "source": [
    "# SibSp and Parch\n",
    "\n",
    "# Count of passengers by value of SibSp\n",
    "print(df.groupby('SibSp').size())\n",
    "\n",
    "# Count of passengers by value of Parch\n",
    "print(df.groupby('Parch').size())"
   ]
  },
  {
   "cell_type": "code",
   "execution_count": 11,
   "id": "00013937-8495-499c-9305-803e93e74cee",
   "metadata": {},
   "outputs": [
    {
     "data": {
      "image/png": "[encoded data removed]",
      "text/plain": [
       "<Figure size 640x480 with 1 Axes>"
      ]
     },
     "metadata": {},
     "output_type": "display_data"
    }
   ],
   "source": [
    "# Count of passengers with age groups\n",
    "\n",
    "plt.hist(df['Age'].dropna(), bins = 8)\n",
    "plt.xlabel('Age groups')\n",
    "plt.ylabel('Count of passengers')\n",
    "plt.title('Histogram of count of passengers per age group')\n",
    "plt.show()"
   ]
  },
  {
   "cell_type": "code",
   "execution_count": 12,
   "id": "d37a55f5-3ea8-483e-a3a5-e5517eaa0ada",
   "metadata": {},
   "outputs": [
    {
     "data": {
      "image/png": "[encoded data removed]",
      "text/plain": [
       "<Figure size 640x480 with 1 Axes>"
      ]
     },
     "metadata": {},
     "output_type": "display_data"
    }
   ],
   "source": [
    "# Count of passengers with fare categories\n",
    "\n",
    "plt.hist(df['Fare'], bins = 100)\n",
    "plt.xlabel('Fare categories')\n",
    "plt.ylabel('Count of passengers')\n",
    "plt.title('Histogram of count of passengers per fare category')\n",
    "plt.show()"
   ]
  },
  {
   "cell_type": "code",
   "execution_count": 13,
   "id": "6fb834c9-78ef-4098-aa0d-47c06ed11865",
   "metadata": {},
   "outputs": [
    {
     "data": {
      "image/png": "[encoded data removed]",
      "text/plain": [
       "<Figure size 640x480 with 1 Axes>"
      ]
     },
     "metadata": {},
     "output_type": "display_data"
    }
   ],
   "source": [
    "# Count of passengers with log(Fare + 1)\n",
    "\n",
    "df['LogFare'] = np.log1p(df['Fare'])\n",
    "plt.hist(df['LogFare'], bins = 10)\n",
    "plt.xlabel('Log(Fare categories + 1)')\n",
    "plt.ylabel('Count of passengers')\n",
    "plt.title('Histogram of log of count of passengers per fare category')\n",
    "plt.show()"
   ]
  },
  {
   "cell_type": "code",
   "execution_count": 14,
   "id": "62360217-6206-4e6f-a219-6a8302739c8e",
   "metadata": {},
   "outputs": [
    {
     "data": {
      "text/plain": [
       "Pclass\n",
       "1    13.888889\n",
       "2     5.978261\n",
       "3    27.698574\n",
       "Name: Age, dtype: float64"
      ]
     },
     "execution_count": 14,
     "metadata": {},
     "output_type": "execute_result"
    }
   ],
   "source": [
    "# Percentage of passengers without recorded age per Pclass\n",
    "\n",
    "df['Age'].isna().astype(int).groupby(df['Pclass']).mean() * 100"
   ]
  },
  {
   "cell_type": "code",
   "execution_count": 15,
   "id": "a93fe619-f2fb-4535-8ded-55eff7bbfdd2",
   "metadata": {},
   "outputs": [
    {
     "data": {
      "text/plain": [
       "Cabin\n",
       "0    29.985444\n",
       "1    66.666667\n",
       "Name: Survived, dtype: float64"
      ]
     },
     "execution_count": 15,
     "metadata": {},
     "output_type": "execute_result"
    }
   ],
   "source": [
    "# Survival rate for passengers with vs without Cabin\n",
    "\n",
    "df['Survived'].groupby(df['Cabin'].notna().astype(int)).mean() * 100"
   ]
  },
  {
   "cell_type": "markdown",
   "id": "9877e512-f41b-48fc-a408-a07df7eade47",
   "metadata": {},
   "source": [
    "### Univariate analysis observations\n",
    "- Females had much higher survival rate than males (74.2% vs 18.9%)\n",
    "- Survival rate decreases from passenger classes 1 to 3 (63.0%, 47.3% and 24.2%)\n",
    "- But the distrbution of survivors was aligned more towards class 1 (due to high number of passengers with class 1 ticket)\n",
    "- Port C had the highest survival rate followed by ports Q and S\n",
    "- Most of the passengers traveled solo\n",
    "- Young adults (20 - 30) were the largest age group\n",
    "- Most passengers paid low fares, but a few outiers paid way more (a few people even paid 500+)\n",
    "- Passengers who had Cabin had ~66.67% compared to ~30% for passengers without it. They probably were on an upper deck (quicker access to lifeboats) and more likely in 1st class"
   ]
  }
 ],
 "metadata": {
  "kernelspec": {
   "display_name": "Python 3 (ipykernel)",
   "language": "python",
   "name": "python3"
  },
  "language_info": {
   "codemirror_mode": {
    "name": "ipython",
    "version": 3
   },
   "file_extension": ".py",
   "mimetype": "text/x-python",
   "name": "python",
   "nbconvert_exporter": "python",
   "pygments_lexer": "ipython3",
   "version": "3.13.5"
  }
 },
 "nbformat": 4,
 "nbformat_minor": 5
}
